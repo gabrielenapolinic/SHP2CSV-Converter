import geopandas as gpd
import pandas as pd
import os
import warnings

# Get the base directory (current working directory)
BASE_DIR = os.getcwd()

# Relative paths for input and output directories
INPUT_DIR = os.path.join(BASE_DIR, '4326')
OUTPUT_DIR = os.path.join(BASE_DIR, 'Napoli_EGU', 'CSV')

# Ensure that the output directory exists
os.makedirs(OUTPUT_DIR, exist_ok=True)

def convert_shp_to_csv(input_dir, output_dir):
    """
    Convert all shapefiles in the input directory to CSV files with WKT geometry,
    handling None geometries by converting them to empty strings.
    """
    processed_files = 0
    error_files = 0
    
    for filename in os.listdir(input_dir):
        if filename.endswith(".shp"):
            file_path = os.path.join(input_dir, filename)
            try:
                print(f"Processing: {filename}")
                
                # Read the shapefile using geopandas
                gdf = gpd.read_file(file_path)
                
                # Check for None geometries and warn if any exist
                if gdf.geometry.isnull().any():
                    invalid_count = gdf.geometry.isnull().sum()
                    warnings.warn(
                        f"{filename} contains {invalid_count} rows with None geometry. "
                        "These will be converted to empty strings in CSV."
                    )
                
                # Convert to DataFrame and handle None geometries by converting to WKT or empty string
                df = pd.DataFrame(gdf)
                df['geometry'] = df['geometry'].apply(
                    lambda x: x.wkt if x is not None else ''
                )
                
                # Save the DataFrame as CSV in the output directory
                output_path = os.path.join(output_dir, f"{os.path.splitext(filename)[0]}.csv")
                df.to_csv(output_path, index=False)
                
                print(f"Successfully converted: {filename}")
                processed_files += 1
                
            except Exception as e:
                error_files += 1
                print(f"Error processing {filename}: {str(e)}")
    
    print("\nConversion complete!")
    print(f"Successfully processed files: {processed_files}")
    print(f"Files with errors: {error_files}")

# Run the conversion function with the relative paths
convert_shp_to_csv(INPUT_DIR, OUTPUT_DIR)
